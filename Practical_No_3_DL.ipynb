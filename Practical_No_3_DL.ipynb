{
 "cells": [
  {
   "cell_type": "code",
   "execution_count": null,
   "id": "6a7dd6a5",
   "metadata": {},
   "outputs": [],
   "source": [
    "'''\n",
    "Build the image classification model by dividing the model into 4 stages:\n",
    "a.Loading and Preprocessing the image data\n",
    "b.Defining the model architecture\n",
    "c.Training the model\n",
    "d.Estimating the model's performance\n",
    "'''"
   ]
  },
  {
   "cell_type": "code",
   "execution_count": null,
   "id": "c70f18b0",
   "metadata": {},
   "outputs": [],
   "source": [
    "'''Image classification\n",
    "Image classification is the task of taking an input image and outputing a class or a\n",
    "probability of classes that best describe the image\n",
    "'''"
   ]
  },
  {
   "cell_type": "code",
   "execution_count": null,
   "id": "e823219d",
   "metadata": {},
   "outputs": [],
   "source": [
    "'''Convolutional Neural Network\n",
    "CNN is a type of artifical Neural network which is widelty used for image classification.\n",
    "Deep Learning recognizes objects in an image by using CNN\n",
    "'''"
   ]
  },
  {
   "cell_type": "code",
   "execution_count": 17,
   "id": "e3633dc8",
   "metadata": {},
   "outputs": [],
   "source": [
    "# importing necessary packages\n",
    "import tensorflow as tf\n",
    "from keras.models import Sequential \n",
    "#Dense for hidden and output layer , Conv2D to create Convolution network , Dropout to remove the random neurons , flattern input into vector form , maxpool to maxpool\n",
    "from keras.layers import Dense,Conv2D,Dropout,Flatten, MaxPooling2D\n",
    "import matplotlib.pyplot as plt\n",
    "import numpy as np"
   ]
  },
  {
   "cell_type": "code",
   "execution_count": 18,
   "id": "1a770a1d",
   "metadata": {},
   "outputs": [],
   "source": [
    "# a) Loading and PreProcessing Image Data\n",
    "#MNIST->mnist digits classification dataset of 60 thousand 28*28 grayscale images of 10digits\n",
    "mnist = tf.keras.datasets.mnist#Importing MNIST Dataset\n",
    "(x_train,y_train),(x_test,y_test) = mnist.load_data()#Splitting it into training and testing\n",
    "input_shape = (28,28,1) #image_shape=(pixel,pixel,channel)"
   ]
  },
  {
   "cell_type": "code",
   "execution_count": 19,
   "id": "eaf873d2",
   "metadata": {},
   "outputs": [],
   "source": [
    "# for Preprocessing ->Reshape Data\n",
    "\n",
    "x_train = x_train.reshape(x_train.shape[0],28,28,1)\n",
    "x_test = x_test.reshape(x_test.shape[0],28,28,1)\n",
    "\n",
    "x_train = x_train.astype('float32') #convert input data to float data type\n",
    "x_test = x_test.astype('float32')"
   ]
  },
  {
   "cell_type": "code",
   "execution_count": 20,
   "id": "fdb1f145",
   "metadata": {},
   "outputs": [
    {
     "name": "stdout",
     "output_type": "stream",
     "text": [
      "shape of Training: (60000, 28, 28, 1)\n"
     ]
    }
   ],
   "source": [
    "x_train = x_train/255 #convert the data 0 to 1 range\n",
    "x_test = x_test/255\n",
    "print('shape of Training:',x_train.shape)"
   ]
  },
  {
   "cell_type": "code",
   "execution_count": 21,
   "id": "58f78c04",
   "metadata": {},
   "outputs": [
    {
     "name": "stdout",
     "output_type": "stream",
     "text": [
      "Model: \"sequential_1\"\n",
      "_________________________________________________________________\n",
      " Layer (type)                Output Shape              Param #   \n",
      "=================================================================\n",
      " conv2d_1 (Conv2D)           (None, 26, 26, 28)        280       \n",
      "                                                                 \n",
      " max_pooling2d_1 (MaxPoolin  (None, 13, 13, 28)        0         \n",
      " g2D)                                                            \n",
      "                                                                 \n",
      " flatten_1 (Flatten)         (None, 4732)              0         \n",
      "                                                                 \n",
      " dense_2 (Dense)             (None, 200)               946600    \n",
      "                                                                 \n",
      " dropout_1 (Dropout)         (None, 200)               0         \n",
      "                                                                 \n",
      " dense_3 (Dense)             (None, 10)                2010      \n",
      "                                                                 \n",
      "=================================================================\n",
      "Total params: 948890 (3.62 MB)\n",
      "Trainable params: 948890 (3.62 MB)\n",
      "Non-trainable params: 0 (0.00 Byte)\n",
      "_________________________________________________________________\n"
     ]
    }
   ],
   "source": [
    "# defining the model architecture\n",
    "\n",
    "model = Sequential() #use sequential model to add layer by layer\n",
    "#conv(how many layers , filter size , input data)\n",
    "model.add(Conv2D(28,kernel_size=(3,3),input_shape=input_shape))\n",
    "model.add(MaxPooling2D(pool_size=(2,2)))\n",
    "model.add(Flatten()) #input data to vectorform\n",
    "model.add(Dense(200,activation=\"relu\"))\n",
    "model.add(Dropout(0.3)) #remove random neurons 30%\n",
    "model.add(Dense(10,activation=\"softmax\")) #output 10 neurons\n",
    "\n",
    "model.summary()"
   ]
  },
  {
   "cell_type": "code",
   "execution_count": 22,
   "id": "67e44a0f",
   "metadata": {},
   "outputs": [
    {
     "name": "stdout",
     "output_type": "stream",
     "text": [
      "Epoch 1/2\n",
      "1875/1875 [==============================] - 36s 19ms/step - loss: 0.2034 - accuracy: 0.9388\n",
      "Epoch 2/2\n",
      "1875/1875 [==============================] - 35s 19ms/step - loss: 0.0863 - accuracy: 0.9733\n"
     ]
    },
    {
     "data": {
      "text/plain": [
       "<keras.src.callbacks.History at 0x26933a09310>"
      ]
     },
     "execution_count": 22,
     "metadata": {},
     "output_type": "execute_result"
    }
   ],
   "source": [
    "# c) Training the model\n",
    "#complie is used to train (optimise,dissimiarity,performace measures)\n",
    "model.compile(optimizer='adam',loss='sparse_categorical_crossentropy',metrics=['accuracy'])\n",
    "#Epoch as the total number of iterations of all the training data in one cycle for training the ML model\n",
    "model.fit(x_train,y_train,epochs=2)"
   ]
  },
  {
   "cell_type": "code",
   "execution_count": 23,
   "id": "b2d60e25",
   "metadata": {},
   "outputs": [
    {
     "name": "stdout",
     "output_type": "stream",
     "text": [
      "313/313 [==============================] - 1s 4ms/step - loss: 0.0608 - accuracy: 0.9811\n",
      "loss=%.3f 0.06078973412513733\n",
      "accuracy=%.3f 0.9811000227928162\n"
     ]
    }
   ],
   "source": [
    "# d) Estimating the model performance\n",
    "\n",
    "test_loss,test_acc = model.evaluate(x_test,y_test)\n",
    "print('loss=%.3f',test_loss)\n",
    "print('accuracy=%.3f',test_acc)"
   ]
  },
  {
   "cell_type": "code",
   "execution_count": 24,
   "id": "373f48b2",
   "metadata": {},
   "outputs": [
    {
     "data": {
      "image/png": "[encoded data removed]",
      "text/plain": [
       "<Figure size 432x288 with 1 Axes>"
      ]
     },
     "metadata": {
      "needs_background": "light"
     },
     "output_type": "display_data"
    }
   ],
   "source": [
    "#showing image at position [] from dataset\n",
    "image = x_train[1]\n",
    "#remove the entries in the given array \n",
    "plt.imshow(np.squeeze(image),cmap='gray')\n",
    "plt.show()"
   ]
  },
  {
   "cell_type": "code",
   "execution_count": 26,
   "id": "308fce03",
   "metadata": {},
   "outputs": [
    {
     "name": "stdout",
     "output_type": "stream",
     "text": [
      "1/1 [==============================] - 0s 50ms/step\n",
      "Predict class : 0\n"
     ]
    }
   ],
   "source": [
    "#Predicting the class of image\n",
    "image = image.reshape(1,image.shape[0],image.shape[1],image.shape[2])\n",
    "predict_model = model.predict([image])\n",
    "print('Predict class : {}'.format(np.argmax(predict_model))) #argmax is fuction witch gives the max Probaility of image to witch it belongs"
   ]
  },
  {
   "cell_type": "code",
   "execution_count": null,
   "id": "fea9f477",
   "metadata": {},
   "outputs": [],
   "source": []
  }
 ],
 "metadata": {
  "kernelspec": {
   "display_name": "Python 3",
   "language": "python",
   "name": "python3"
  },
  "language_info": {
   "codemirror_mode": {
    "name": "ipython",
    "version": 3
   },
   "file_extension": ".py",
   "mimetype": "text/x-python",
   "name": "python",
   "nbconvert_exporter": "python",
   "pygments_lexer": "ipython3",
   "version": "3.9.5 (tags/v3.9.5:0a7dcbd, May  3 2021, 17:27:52) [MSC v.1928 64 bit (AMD64)]"
  },
  "vscode": {
   "interpreter": {
    "hash": "11938c6bc6919ae2720b4d5011047913343b08a43b18698fd82dedb0d4417594"
   }
  }
 },
 "nbformat": 4,
 "nbformat_minor": 5
}
