{
 "cells": [
  {
   "cell_type": "code",
   "execution_count": 5,
   "id": "c63995c7",
   "metadata": {},
   "outputs": [
    {
     "data": {
      "text/plain": [
       "'\\nImplementing Feedforward neural networks with Keras and TensorFlow\\na. Import the necessary packages\\nb. Load the training and testing data (MNIST/CIFAR10)\\nc. Define the network architecture using Keras\\nd. Train the model using SGD\\ne. Evaluate the network\\nf. Plot the training loss and accuracy\\n'"
      ]
     },
     "execution_count": 5,
     "metadata": {},
     "output_type": "execute_result"
    }
   ],
   "source": [
    "'''\n",
    "Implementing Feedforward neural networks with Keras and TensorFlow\n",
    "a. Import the necessary packages\n",
    "b. Load the training and testing data (MNIST/CIFAR10)\n",
    "c. Define the network architecture using Keras\n",
    "d. Train the model using SGD\n",
    "e. Evaluate the network\n",
    "f. Plot the training loss and accuracy\n",
    "'''"
   ]
  },
  {
   "cell_type": "code",
   "execution_count": 25,
   "id": "4aec8c0b",
   "metadata": {},
   "outputs": [],
   "source": [
    "# a) importing necessary packages\n",
    "\n",
    "import tensorflow as tf    \n",
    "from tensorflow import keras\n",
    "import matplotlib.pyplot as plt\n",
    "import numpy as np\n",
    "import random #generate a random number for prediction"
   ]
  },
  {
   "cell_type": "code",
   "execution_count": 12,
   "id": "4f7e9dd5",
   "metadata": {},
   "outputs": [
    {
     "name": "stdout",
     "output_type": "stream",
     "text": [
      "Downloading data from https://storage.googleapis.com/tensorflow/tf-keras-datasets/mnist.npz\n",
      "11490434/11490434 [==============================] - 18s 2us/step\n"
     ]
    }
   ],
   "source": [
    "# b) Load Training and Tesing Data\n",
    "#MNIST->mnist digits classification dataset of 60 thousand 28*28 grayscale images of 10digits\n",
    "mnist = tf.keras.datasets.mnist #Importing MNIST Dataset\n",
    "(x_train,y_train),(x_test,y_test) = mnist.load_data() #Splitting it into training and testing\n",
    "\n"
   ]
  },
  {
   "cell_type": "code",
   "execution_count": 15,
   "id": "8c9f699b",
   "metadata": {},
   "outputs": [],
   "source": [
    "#grayscale was 0 to 255 inorder to convert in range of 0 to 1\n",
    "x_train = x_train/255\n",
    "x_test = x_test/255"
   ]
  },
  {
   "cell_type": "code",
   "execution_count": 18,
   "id": "92e8a1e3",
   "metadata": {},
   "outputs": [],
   "source": [
    "# c) Define the network architecture using keras\n",
    "#var model call the keras swquential method for input , hidden , output layer\n",
    "\n",
    "model = keras.Sequential([\n",
    "    keras.layers.Flatten(input_shape=(28,28)), #final layers data into vector form\n",
    "    keras.layers.Dense(128,activation=\"relu\"), # 128 neurons helps model to learn faster and performance better\n",
    "    keras.layers.Dense(10,activation=\"softmax\") # 10 neurons output multiclassification model\n",
    "])"
   ]
  },
  {
   "cell_type": "code",
   "execution_count": 20,
   "id": "b9ca7a58",
   "metadata": {},
   "outputs": [
    {
     "name": "stdout",
     "output_type": "stream",
     "text": [
      "Model: \"sequential\"\n",
      "_________________________________________________________________\n",
      " Layer (type)                Output Shape              Param #   \n",
      "=================================================================\n",
      " flatten (Flatten)           (None, 784)               0         \n",
      "                                                                 \n",
      " dense (Dense)               (None, 128)               100480    \n",
      "                                                                 \n",
      " dense_1 (Dense)             (None, 10)                1290      \n",
      "                                                                 \n",
      "=================================================================\n",
      "Total params: 101770 (397.54 KB)\n",
      "Trainable params: 101770 (397.54 KB)\n",
      "Non-trainable params: 0 (0.00 Byte)\n",
      "_________________________________________________________________\n"
     ]
    }
   ],
   "source": [
    "model.summary() #what is happening input hidden output"
   ]
  },
  {
   "cell_type": "code",
   "execution_count": 22,
   "id": "b34d294a",
   "metadata": {},
   "outputs": [],
   "source": [
    "# d) Trained the model using sgd ->Stochastic Graident Descent -> optimising the ML models\n",
    "#complie is used to train (optimise,dissimiarity,performace measures)\n",
    "\n",
    "model.compile(optimizer=\"sgd\",loss=\"sparse_categorical_crossentropy\",metrics=['accuracy'])"
   ]
  },
  {
   "cell_type": "code",
   "execution_count": 23,
   "id": "45f64545",
   "metadata": {},
   "outputs": [
    {
     "name": "stdout",
     "output_type": "stream",
     "text": [
      "Epoch 1/5\n",
      "1875/1875 [==============================] - 15s 7ms/step - loss: 0.6533 - accuracy: 0.8324 - val_loss: 0.3615 - val_accuracy: 0.9037\n",
      "Epoch 2/5\n",
      "1875/1875 [==============================] - 10s 5ms/step - loss: 0.3389 - accuracy: 0.9050 - val_loss: 0.2921 - val_accuracy: 0.9202\n",
      "Epoch 3/5\n",
      "1875/1875 [==============================] - 11s 6ms/step - loss: 0.2887 - accuracy: 0.9186 - val_loss: 0.2625 - val_accuracy: 0.9266\n",
      "Epoch 4/5\n",
      "1875/1875 [==============================] - 12s 6ms/step - loss: 0.2576 - accuracy: 0.9272 - val_loss: 0.2376 - val_accuracy: 0.9336\n",
      "Epoch 5/5\n",
      "1875/1875 [==============================] - 11s 6ms/step - loss: 0.2339 - accuracy: 0.9345 - val_loss: 0.2197 - val_accuracy: 0.9394\n"
     ]
    }
   ],
   "source": [
    "#fit the model(training , onbasis data ,epoch)\n",
    "#Epoch as the total number of iterations of all the training data in one cycle for training the ML model\n",
    "history = model.fit(x_train,y_train,validation_data=(x_test,y_test),epochs=5)"
   ]
  },
  {
   "cell_type": "code",
   "execution_count": 24,
   "id": "caed83e5",
   "metadata": {},
   "outputs": [
    {
     "name": "stdout",
     "output_type": "stream",
     "text": [
      "313/313 [==============================] - 1s 4ms/step - loss: 0.2197 - accuracy: 0.9394\n",
      "Loss = 0.220\n",
      "Accuracy = 0.939\n"
     ]
    }
   ],
   "source": [
    " #Evalute the network\n",
    "test_loss,test_acc = model.evaluate(x_test,y_test)\n",
    "print('Loss = %.3f' %test_loss)\n",
    "print('Accuracy = %.3f' %test_acc)"
   ]
  },
  {
   "cell_type": "code",
   "execution_count": 26,
   "id": "e3b8a9d5",
   "metadata": {},
   "outputs": [
    {
     "data": {
      "image/png": "[encoded data removed]",
      "text/plain": [
       "<Figure size 432x288 with 1 Axes>"
      ]
     },
     "metadata": {
      "needs_background": "light"
     },
     "output_type": "display_data"
    },
    {
     "name": "stdout",
     "output_type": "stream",
     "text": [
      "313/313 [==============================] - 1s 3ms/step\n"
     ]
    },
    {
     "data": {
      "image/png": "[encoded data removed]",
      "text/plain": [
       "<Figure size 432x288 with 1 Axes>"
      ]
     },
     "metadata": {
      "needs_background": "light"
     },
     "output_type": "display_data"
    },
    {
     "name": "stdout",
     "output_type": "stream",
     "text": [
      "predicted value [1.1813402e-06 2.3897478e-06 8.5250707e-05 7.3125199e-07 9.9266833e-01\n",
      " 6.1605347e-06 1.5824634e-03 2.0917492e-04 4.9641484e-04 4.9479199e-03]\n"
     ]
    }
   ],
   "source": [
    "n = random.randint(0,9999)\n",
    "plt.imshow(x_test[n]) #image show\n",
    "plt.show()\n",
    "predicted_value = model.predict(x_test)\n",
    "plt.imshow(x_test[n])\n",
    "plt.show()\n",
    "\n",
    "print('predicted value',predicted_value[n])"
   ]
  },
  {
   "cell_type": "code",
   "execution_count": 33,
   "id": "638381e6",
   "metadata": {},
   "outputs": [
    {
     "data": {
      "image/png": "[encoded data removed]",
      "text/plain": [
       "<Figure size 432x288 with 1 Axes>"
      ]
     },
     "metadata": {
      "needs_background": "light"
     },
     "output_type": "display_data"
    }
   ],
   "source": [
    "# f) Plot  the Training Loss and Accuracy\n",
    "\n",
    "# 1. Plotting The Training  Accuracy :-\n",
    "plt.plot(history.history['accuracy']) #training accuracy\n",
    "plt.plot(history.history['val_accuracy']) #validate accuracy\n",
    "plt.title('model accuracy')\n",
    "plt.ylabel('accuracy')\n",
    "plt.xlabel('epoch')\n",
    "plt.legend(['Train','Validation'],loc='upper left')\n",
    "plt.show()"
   ]
  },
  {
   "cell_type": "code",
   "execution_count": 32,
   "id": "e5275668",
   "metadata": {},
   "outputs": [
    {
     "data": {
      "image/png": "[encoded data removed]",
      "text/plain": [
       "<Figure size 432x288 with 1 Axes>"
      ]
     },
     "metadata": {
      "needs_background": "light"
     },
     "output_type": "display_data"
    }
   ],
   "source": [
    "# 2. Plotting The Training  Loss :-\n",
    "plt.plot(history.history['loss'])\n",
    "plt.plot(history.history['val_loss'])\n",
    "plt.title('model loss')\n",
    "plt.ylabel('loss')\n",
    "plt.xlabel('epoch')\n",
    "plt.legend(['Train','Validation'],loc='upper right')\n",
    "plt.show()"
   ]
  },
  {
   "cell_type": "code",
   "execution_count": null,
   "id": "48dc51c4",
   "metadata": {},
   "outputs": [],
   "source": []
  }
 ],
 "metadata": {
  "kernelspec": {
   "display_name": "Python 3",
   "language": "python",
   "name": "python3"
  },
  "language_info": {
   "codemirror_mode": {
    "name": "ipython",
    "version": 3
   },
   "file_extension": ".py",
   "mimetype": "text/x-python",
   "name": "python",
   "nbconvert_exporter": "python",
   "pygments_lexer": "ipython3",
   "version": "3.9.5 (tags/v3.9.5:0a7dcbd, May  3 2021, 17:27:52) [MSC v.1928 64 bit (AMD64)]"
  },
  "vscode": {
   "interpreter": {
    "hash": "11938c6bc6919ae2720b4d5011047913343b08a43b18698fd82dedb0d4417594"
   }
  }
 },
 "nbformat": 4,
 "nbformat_minor": 5
}
